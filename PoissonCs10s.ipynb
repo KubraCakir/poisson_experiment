{
 "cells": [
  {
   "cell_type": "markdown",
   "metadata": {},
   "source": [
    "# 442 Poisson Fit"
   ]
  },
  {
   "cell_type": "code",
   "execution_count": 15,
   "metadata": {},
   "outputs": [],
   "source": [
    "\n",
    "import numpy as np\n",
    "from scipy.stats import poisson\n",
    "import matplotlib.pyplot as plt\n",
    "%matplotlib inline\n",
    "\n",
    "from ROOT import TCanvas, TGraphErrors, TF1, TH1F, gStyle\n",
    "from ROOT import gROOT\n",
    "from array import array"
   ]
  },
  {
   "cell_type": "code",
   "execution_count": 16,
   "metadata": {},
   "outputs": [],
   "source": [
    "def getValues(filename):\n",
    "    try:\n",
    "        file = open(filename, 'r')\n",
    "    except IOError:\n",
    "        print \"Problem with the\", filename\n",
    "    values =[]\n",
    "    for line in file:\n",
    "        values.append(int(line))\n",
    "    return values    "
   ]
  },
  {
   "cell_type": "code",
   "execution_count": 17,
   "metadata": {},
   "outputs": [
    {
     "name": "stdout",
     "output_type": "stream",
     "text": [
      "[92, 91, 94, 103, 79, 83, 123, 108, 91, 84, 102, 98, 90, 90, 83, 91, 89, 110, 94, 97, 102, 104, 103, 96, 98, 96, 98, 74, 80, 81, 88, 115, 87, 90, 113, 95, 96, 86, 98, 92, 83, 105, 93, 108, 115, 99, 86, 112, 89, 103, 97, 94, 81, 102, 94, 93, 89, 87, 90, 108, 94, 80, 106, 92, 107, 101, 98, 98, 100, 113, 102, 108, 110, 89, 106, 104, 90, 108, 80, 93, 110, 95, 99, 108, 93, 106, 93, 88, 89, 98, 86, 102, 96, 113, 89, 105, 89, 98, 89, 104]\n"
     ]
    }
   ],
   "source": [
    "values = getValues('cs10s.txt')\n",
    "print values"
   ]
  },
  {
   "cell_type": "code",
   "execution_count": 18,
   "metadata": {},
   "outputs": [
    {
     "data": {
      "image/png": "[encoded data removed]",
      "text/plain": [
       "<Figure size 432x288 with 1 Axes>"
      ]
     },
     "metadata": {
      "needs_background": "light"
     },
     "output_type": "display_data"
    },
    {
     "ename": "NameError",
     "evalue": "name 'x' is not defined",
     "output_type": "error",
     "traceback": [
      "\u001b[0;31m\u001b[0m",
      "\u001b[0;31mNameError\u001b[0mTraceback (most recent call last)",
      "\u001b[0;32m<ipython-input-18-5073b9aba188>\u001b[0m in \u001b[0;36m<module>\u001b[0;34m()\u001b[0m\n\u001b[1;32m      6\u001b[0m \u001b[0mplt\u001b[0m\u001b[0;34m.\u001b[0m\u001b[0mtitle\u001b[0m\u001b[0;34m(\u001b[0m\u001b[0;34m\"Poisson Distributed Decays of Cs\"\u001b[0m\u001b[0;34m)\u001b[0m\u001b[0;34m\u001b[0m\u001b[0;34m\u001b[0m\u001b[0m\n\u001b[1;32m      7\u001b[0m \u001b[0mplt\u001b[0m\u001b[0;34m.\u001b[0m\u001b[0mshow\u001b[0m\u001b[0;34m(\u001b[0m\u001b[0;34m)\u001b[0m\u001b[0;34m\u001b[0m\u001b[0;34m\u001b[0m\u001b[0m\n\u001b[0;32m----> 8\u001b[0;31m \u001b[0mx\u001b[0m\u001b[0;34m.\u001b[0m\u001b[0msavefig\u001b[0m\u001b[0;34m(\u001b[0m\u001b[0;34m'cs10.eps'\u001b[0m\u001b[0;34m,\u001b[0m\u001b[0mformat\u001b[0m\u001b[0;34m=\u001b[0m\u001b[0;34m'eps'\u001b[0m\u001b[0;34m,\u001b[0m\u001b[0mdpi\u001b[0m\u001b[0;34m=\u001b[0m\u001b[0;36m1000\u001b[0m\u001b[0;34m)\u001b[0m\u001b[0;34m\u001b[0m\u001b[0;34m\u001b[0m\u001b[0m\n\u001b[0m",
      "\u001b[0;31mNameError\u001b[0m: name 'x' is not defined"
     ]
    }
   ],
   "source": [
    "\n",
    "plt.figure()\n",
    "plt.hist(values,10)\n",
    "plt.ylabel(\"N\")\n",
    "plt.xlabel(\"Number of counts\")\n",
    "plt.title(\"Poisson Distributed Decays of Cs\")\n",
    "plt.show()\n",
    "x.savefig('cs10.eps',format='eps',dpi=1000)"
   ]
  },
  {
   "cell_type": "code",
   "execution_count": null,
   "metadata": {},
   "outputs": [],
   "source": [
    "#Create a canvas to draw your histograms and functions\n",
    "c1 = TCanvas( 'c1', 'Poisson Graph', 200, 10, 600, 400 ) \n",
    "\n",
    "#define a histogram with 20 bins between 60-120 (Change these values according to your data sets!!!)\n",
    "histo = TH1F(\"histo\", \"Number of decay distribution of Cs (10sec)\", 10, 70, 130) \n",
    "\n",
    "#Label the X-Y axis\n",
    "histo.GetYaxis().SetTitle(\"N\")\n",
    "histo.GetXaxis ().SetTitle (\"Number of decays \");\n",
    "\n",
    "#Fill the randomly generated data into your histogram\n",
    "for data_point in values:\n",
    "    histo.Fill(data_point)\n",
    "\n",
    "#Draw your histogram with error bars and draw it on the canvas\n",
    "histo.Draw(\"E\")\n",
    "c1.Draw()\n",
    "c1.SaveAs(\"cs10_1.eps\")"
   ]
  },
  {
   "cell_type": "code",
   "execution_count": null,
   "metadata": {},
   "outputs": [],
   "source": [
    "# Define the Poisson function from TMath library in ROOT to fit with two parameters:\n",
    "#[0]: normalizing constant\n",
    "#[1]: mean\n",
    "fpois = TF1(\"fpois\",\"[0]*TMath::Poisson(x,[1])\",70,130) #(Change interval values (60,120) according to your data sets!!!)\n",
    "\n",
    "#Set the parameters to guide the ROOT fitter to converge easily and fit your histogram\n",
    "fpois.SetParameters(10, 100) # give reasonable estimates for your parameters to guide ROOT fit to converge\n",
    "fpois.SetFillColor(41);\n",
    "histo.Fit(\"fpois\", \"E\")\n",
    "histo.SetTitle(\"Number of decay distribution of Cs (10 sec) - Poisson Fit\")\n",
    "#Set the options to display fit parameters and chi_squared value on the graph\n",
    "gStyle.SetOptFit(1111)\n",
    "\n",
    "c1.Draw()\n",
    "c1.SaveAs(\"cs10_1.eps\")"
   ]
  },
  {
   "cell_type": "code",
   "execution_count": null,
   "metadata": {},
   "outputs": [],
   "source": [
    "#Do the similar procedure for Gaussian function (which now has 3 parameters: normalization, mean, standard dev.)\n",
    "fgaus = TF1(\"fgaus\",\"gaus\")\n",
    "fgaus.SetParameters(10, 100, 5) # give reasonable estimates for your parameters to guide ROOT fit to converge\n",
    "fgaus.SetFillColor(45);\n",
    "histo.Fit(\"fgaus\", \"E\")\n",
    "histo.SetTitle(\"Number of decay distribution of Cs (10 sec) - Gaussian Fit\")\n",
    "#histo.Draw(\"same\")\n",
    "c1.Draw(\"same\")\n",
    "c1.SaveAs(\"cs10_1.eps\")"
   ]
  },
  {
   "cell_type": "code",
   "execution_count": null,
   "metadata": {},
   "outputs": [],
   "source": []
  }
 ],
 "metadata": {
  "kernelspec": {
   "display_name": "Python 2",
   "language": "python",
   "name": "python2"
  },
  "language_info": {
   "codemirror_mode": {
    "name": "ipython",
    "version": 2
   },
   "file_extension": ".py",
   "mimetype": "text/x-python",
   "name": "python",
   "nbconvert_exporter": "python",
   "pygments_lexer": "ipython2",
   "version": "2.7.15+"
  }
 },
 "nbformat": 4,
 "nbformat_minor": 2
}
