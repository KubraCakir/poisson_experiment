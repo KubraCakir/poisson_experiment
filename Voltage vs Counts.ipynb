{
 "cells": [
  {
   "cell_type": "code",
   "execution_count": 3,
   "metadata": {
    "collapsed": true
   },
   "outputs": [],
   "source": [
    "import matplotlib.pyplot as plt\n",
    "%matplotlib inline\n",
    "import numpy as np"
   ]
  },
  {
   "cell_type": "code",
   "execution_count": null,
   "metadata": {},
   "outputs": [],
   "source": [
    "a = plt.figure()\n",
    "x=[300, 320, 340, 360, 380, 400,420,440,460, 480]\n",
    "y=[0, 0, 0, 285, 306, 321, 333, 344, 323, 352]\n",
    "plt.plot(x, y, 'x', label='Operating Voltage')\n",
    "plt.xlabel(\"Voltage(V)\")\n",
    "plt.ylabel(\"Counts\")\n",
    "plt.title(\"Voltage vs Count\")\n",
    "yerr = np.sqrt(y)\n",
    "plt.errorbar(x,y,yerr=yerr, linestyle=\"None\")\n",
    "plt.show()\n",
    "a.savefig('poisson.eps', format='eps', dpi=1000)"
   ]
  },
  {
   "cell_type": "code",
   "execution_count": null,
   "metadata": {
    "collapsed": true
   },
   "outputs": [],
   "source": []
  }
 ],
 "metadata": {
  "kernelspec": {
   "display_name": "Python 3",
   "language": "python",
   "name": "python3"
  },
  "language_info": {
   "codemirror_mode": {
    "name": "ipython",
    "version": 3
   },
   "file_extension": ".py",
   "mimetype": "text/x-python",
   "name": "python",
   "nbconvert_exporter": "python",
   "pygments_lexer": "ipython3",
   "version": "3.6.2"
  }
 },
 "nbformat": 4,
 "nbformat_minor": 2
}
